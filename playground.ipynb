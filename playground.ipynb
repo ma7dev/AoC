{
 "cells": [
  {
   "cell_type": "code",
   "execution_count": 33,
   "metadata": {},
   "outputs": [],
   "source": [
    "import csv"
   ]
  },
  {
   "cell_type": "code",
   "execution_count": 34,
   "metadata": {},
   "outputs": [
    {
     "name": "stdout",
     "output_type": "stream",
     "text": [
      "1832\n",
      "1858\n"
     ]
    }
   ],
   "source": [
    "# part 1\n",
    "data = []\n",
    "with open('data/1_1.txt', 'r') as f:\n",
    "    reader = csv.reader(f)\n",
    "    for i, row in enumerate(reader):\n",
    "        data.append(int(row[0]))\n",
    "counter = 0\n",
    "prev = data[0]\n",
    "for i in range(1,len(data)):\n",
    "    if data[i] > prev:\n",
    "        counter += 1\n",
    "    prev = data[i]\n",
    "print(counter)\n",
    "# part 2\n",
    "counter = 0\n",
    "for i in range(len(data)-3):\n",
    "    if data[i+3] > data[i]:\n",
    "        counter += 1\n",
    "print(counter)"
   ]
  },
  {
   "cell_type": "code",
   "execution_count": null,
   "metadata": {},
   "outputs": [],
   "source": []
  }
 ],
 "metadata": {
  "interpreter": {
   "hash": "d18c5aeff51af3a7d1488bd8f1edbee7fd3a2450676de85e4467d7b18d7bd2c4"
  },
  "kernelspec": {
   "display_name": "Python 3.9.6 64-bit ('kaggle': conda)",
   "language": "python",
   "name": "python3"
  },
  "language_info": {
   "codemirror_mode": {
    "name": "ipython",
    "version": 3
   },
   "file_extension": ".py",
   "mimetype": "text/x-python",
   "name": "python",
   "nbconvert_exporter": "python",
   "pygments_lexer": "ipython3",
   "version": "3.9.6"
  },
  "orig_nbformat": 4
 },
 "nbformat": 4,
 "nbformat_minor": 2
}
