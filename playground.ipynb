{
 "cells": [
  {
   "cell_type": "code",
   "execution_count": 12,
   "metadata": {},
   "outputs": [
    {
     "data": {
      "text/html": [
       "<pre style=\"white-space:pre;overflow-x:auto;line-height:normal;font-family:Menlo,'DejaVu Sans Mono',consolas,'Courier New',monospace\"><span style=\"color: #008000; text-decoration-color: #008000\">Part </span><span style=\"color: #008000; text-decoration-color: #008000; font-weight: bold\">1</span>: <span style=\"color: #808000; text-decoration-color: #808000; font-weight: bold; font-style: italic\">2019945</span> - <span style=\"color: #000080; text-decoration-color: #000080; font-weight: bold\">0.</span><span style=\"color: #000080; text-decoration-color: #000080; font-weight: bold\">0004s</span>\n",
       "</pre>\n"
      ],
      "text/plain": [
       "\u001b[32mPart \u001b[0m\u001b[1;32m1\u001b[0m: \u001b[1;3;33m2019945\u001b[0m - \u001b[1;34m0.\u001b[0m\u001b[1;34m0004s\u001b[0m\n"
      ]
     },
     "metadata": {},
     "output_type": "display_data"
    },
    {
     "data": {
      "text/html": [
       "<pre style=\"white-space:pre;overflow-x:auto;line-height:normal;font-family:Menlo,'DejaVu Sans Mono',consolas,'Courier New',monospace\"><span style=\"color: #008000; text-decoration-color: #008000\">Part </span><span style=\"color: #008000; text-decoration-color: #008000; font-weight: bold\">2</span>: <span style=\"color: #808000; text-decoration-color: #808000; font-weight: bold; font-style: italic\">1599311480</span> - <span style=\"color: #000080; text-decoration-color: #000080; font-weight: bold\">0.</span><span style=\"color: #000080; text-decoration-color: #000080; font-weight: bold\">0005s</span>\n",
       "</pre>\n"
      ],
      "text/plain": [
       "\u001b[32mPart \u001b[0m\u001b[1;32m2\u001b[0m: \u001b[1;3;33m1599311480\u001b[0m - \u001b[1;34m0.\u001b[0m\u001b[1;34m0005s\u001b[0m\n"
      ]
     },
     "metadata": {},
     "output_type": "display_data"
    }
   ],
   "source": [
    "import sys\n",
    "sys.path.insert(0, \"../../\")\n",
    "from helpers import utils\n",
    "# --------------------------------------------------\n",
    "import csv\n",
    "data = []\n",
    "with open('input.txt', 'r') as f:\n",
    "    reader = csv.reader(f)\n",
    "    for i, row in enumerate(reader):\n",
    "        data.append([row[0].split(' ')[0],int(row[0].split(' ')[1])])\n",
    "# print(data)\n",
    "# part 1\n",
    "utils.start_timer()\n",
    "horizontal = 0\n",
    "depth = 0\n",
    "for i in range(len(data)):\n",
    "    if data[i][0] == 'forward':\n",
    "        horizontal += data[i][1]\n",
    "    elif data[i][0] == 'down':\n",
    "        depth += data[i][1]\n",
    "    elif data[i][0] == 'up':\n",
    "        depth -= data[i][1]\n",
    "utils.pprint(1,horizontal*depth)\n",
    "# part 2\n",
    "utils.start_timer()\n",
    "horizontal = 0\n",
    "depth = 0\n",
    "aim = 0\n",
    "for i in range(len(data)):\n",
    "    if data[i][0] == 'forward':\n",
    "        horizontal += data[i][1]\n",
    "        depth += data[i][1]*aim\n",
    "    elif data[i][0] == 'down':\n",
    "        aim += data[i][1]\n",
    "    elif data[i][0] == 'up':\n",
    "        aim -= data[i][1]\n",
    "utils.pprint(2,horizontal*depth)"
   ]
  },
  {
   "cell_type": "code",
   "execution_count": null,
   "metadata": {},
   "outputs": [],
   "source": []
  }
 ],
 "metadata": {
  "interpreter": {
   "hash": "d18c5aeff51af3a7d1488bd8f1edbee7fd3a2450676de85e4467d7b18d7bd2c4"
  },
  "kernelspec": {
   "display_name": "Python 3.9.6 64-bit ('kaggle': conda)",
   "language": "python",
   "name": "python3"
  },
  "language_info": {
   "codemirror_mode": {
    "name": "ipython",
    "version": 3
   },
   "file_extension": ".py",
   "mimetype": "text/x-python",
   "name": "python",
   "nbconvert_exporter": "python",
   "pygments_lexer": "ipython3",
   "version": "3.9.6"
  },
  "orig_nbformat": 4
 },
 "nbformat": 4,
 "nbformat_minor": 2
}
