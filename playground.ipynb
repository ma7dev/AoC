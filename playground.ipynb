{
 "cells": [
  {
   "cell_type": "code",
   "execution_count": 135,
   "metadata": {},
   "outputs": [
    {
     "data": {
      "text/html": [
       "<pre style=\"white-space:pre;overflow-x:auto;line-height:normal;font-family:Menlo,'DejaVu Sans Mono',consolas,'Courier New',monospace\"><span style=\"color: #008000; text-decoration-color: #008000\">Part </span><span style=\"color: #008000; text-decoration-color: #008000; font-weight: bold\">1</span>: <span style=\"color: #808000; text-decoration-color: #808000; font-weight: bold; font-style: italic\">82440</span> - <span style=\"color: #000080; text-decoration-color: #000080; font-weight: bold\">0.</span><span style=\"color: #000080; text-decoration-color: #000080; font-weight: bold\">0230s</span>\n",
       "</pre>\n"
      ],
      "text/plain": [
       "\u001b[32mPart \u001b[0m\u001b[1;32m1\u001b[0m: \u001b[1;3;33m82440\u001b[0m - \u001b[1;34m0.\u001b[0m\u001b[1;34m0230s\u001b[0m\n"
      ]
     },
     "metadata": {},
     "output_type": "display_data"
    },
    {
     "data": {
      "text/html": [
       "<pre style=\"white-space:pre;overflow-x:auto;line-height:normal;font-family:Menlo,'DejaVu Sans Mono',consolas,'Courier New',monospace\"><span style=\"color: #008000; text-decoration-color: #008000\">Part </span><span style=\"color: #008000; text-decoration-color: #008000; font-weight: bold\">2</span>: <span style=\"color: #808000; text-decoration-color: #808000; font-weight: bold; font-style: italic\">20774</span> - <span style=\"color: #000080; text-decoration-color: #000080; font-weight: bold\">0.</span><span style=\"color: #000080; text-decoration-color: #000080; font-weight: bold\">0412s</span>\n",
       "</pre>\n"
      ],
      "text/plain": [
       "\u001b[32mPart \u001b[0m\u001b[1;32m2\u001b[0m: \u001b[1;3;33m20774\u001b[0m - \u001b[1;34m0.\u001b[0m\u001b[1;34m0412s\u001b[0m\n"
      ]
     },
     "metadata": {},
     "output_type": "display_data"
    }
   ],
   "source": [
    "import sys\n",
    "sys.path.insert(0, \"../../\")\n",
    "from helpers import utils\n",
    "# --------------------------------------------------\n",
    "import csv\n",
    "from typing import List, Tuple\n",
    "\n",
    "def read(filename: str) -> Tuple[str, List[List[str]]]: \n",
    "    calls = []\n",
    "    boards = []\n",
    "    with open(filename, 'r') as f:\n",
    "        reader = csv.reader(f)\n",
    "        board = []\n",
    "        for i, row in enumerate(reader):\n",
    "            if i == 0:\n",
    "                calls = row\n",
    "            elif row == []:\n",
    "                if board != []:\n",
    "                    boards.append(board)\n",
    "                board = []\n",
    "            else:\n",
    "                board.append(row[0].split())\n",
    "        if board != []:\n",
    "            boards.append(board)\n",
    "    return (calls, boards)\n",
    "\n",
    "def solver(board: List[List[str]], call: str) -> List[List[str]]:\n",
    "    for i,row in enumerate(board):\n",
    "        for j, _ in enumerate(row):\n",
    "            if call == row[j]:\n",
    "                board[i][j] = \"x\"\n",
    "    return board\n",
    "\n",
    "def checker(board: List[List[str]]) -> bool:\n",
    "    for row in board:\n",
    "        if row.count(\"x\") == len(row):\n",
    "            return True\n",
    "    for col in range(len(board[0])):\n",
    "        if [row[col] for row in board].count(\"x\") == len(board):\n",
    "            return True\n",
    "    return False\n",
    "\n",
    "def summ(board: List[List[str]]) -> int:\n",
    "    sum_ = 0\n",
    "    for row in board:\n",
    "        for col in row:\n",
    "            if col == \"x\":\n",
    "                continue\n",
    "            sum_ += int(col)\n",
    "    return sum_\n",
    "\n",
    "def part_1(calls,boards,verbose=False):\n",
    "    utils.start_timer()\n",
    "    for call in calls:\n",
    "        for board in boards:\n",
    "            if board == None:\n",
    "                continue\n",
    "            board = solver(board,call)\n",
    "            if checker(board):\n",
    "                utils.pprint(1, summ(board)*int(call))\n",
    "                return\n",
    "        \n",
    "\n",
    "def part_2(calls,boards,verbose=False):\n",
    "    utils.start_timer()\n",
    "    boards_status = [False]*len(boards)\n",
    "    for call in calls:\n",
    "        for i, board in enumerate(boards):\n",
    "            if boards_status[i]:\n",
    "                continue\n",
    "            boards[i] = solver(boards[i],call)\n",
    "            if checker(board):\n",
    "                if sum(boards_status) == len(boards)-1:\n",
    "                    utils.pprint(2, summ(board)*int(call))\n",
    "                    return\n",
    "                boards_status[i] = True\n",
    "\n",
    "# calls,boards = read('ex.txt')\n",
    "calls,boards = read('input.txt')\n",
    "part_1(calls,boards)\n",
    "part_2(calls,boards)"
   ]
  },
  {
   "cell_type": "code",
   "execution_count": null,
   "metadata": {},
   "outputs": [],
   "source": []
  }
 ],
 "metadata": {
  "interpreter": {
   "hash": "d18c5aeff51af3a7d1488bd8f1edbee7fd3a2450676de85e4467d7b18d7bd2c4"
  },
  "kernelspec": {
   "display_name": "Python 3.9.6 64-bit ('kaggle': conda)",
   "language": "python",
   "name": "python3"
  },
  "language_info": {
   "codemirror_mode": {
    "name": "ipython",
    "version": 3
   },
   "file_extension": ".py",
   "mimetype": "text/x-python",
   "name": "python",
   "nbconvert_exporter": "python",
   "pygments_lexer": "ipython3",
   "version": "3.9.6"
  },
  "orig_nbformat": 4
 },
 "nbformat": 4,
 "nbformat_minor": 2
}
