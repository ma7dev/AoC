{
 "cells": [
  {
   "cell_type": "code",
   "execution_count": 34,
   "metadata": {},
   "outputs": [
    {
     "data": {
      "text/html": [
       "<pre style=\"white-space:pre;overflow-x:auto;line-height:normal;font-family:Menlo,'DejaVu Sans Mono',consolas,'Courier New',monospace\"><span style=\"color: #008000; text-decoration-color: #008000\">Part </span><span style=\"color: #008000; text-decoration-color: #008000; font-weight: bold\">1</span>: <span style=\"color: #808000; text-decoration-color: #808000; font-weight: bold; font-style: italic\">2</span> - <span style=\"color: #000080; text-decoration-color: #000080; font-weight: bold\">0.</span><span style=\"color: #000080; text-decoration-color: #000080; font-weight: bold\">0003s</span>\n",
       "</pre>\n"
      ],
      "text/plain": [
       "\u001b[32mPart \u001b[0m\u001b[1;32m1\u001b[0m: \u001b[1;3;33m2\u001b[0m - \u001b[1;34m0.\u001b[0m\u001b[1;34m0003s\u001b[0m\n"
      ]
     },
     "metadata": {},
     "output_type": "display_data"
    },
    {
     "data": {
      "text/html": [
       "<pre style=\"white-space:pre;overflow-x:auto;line-height:normal;font-family:Menlo,'DejaVu Sans Mono',consolas,'Courier New',monospace\"><span style=\"color: #008000; text-decoration-color: #008000\">Part </span><span style=\"color: #008000; text-decoration-color: #008000; font-weight: bold\">2</span>: <span style=\"color: #808000; text-decoration-color: #808000; font-weight: bold; font-style: italic\">2</span> - <span style=\"color: #000080; text-decoration-color: #000080; font-weight: bold\">0.</span><span style=\"color: #000080; text-decoration-color: #000080; font-weight: bold\">0003s</span>\n",
       "</pre>\n"
      ],
      "text/plain": [
       "\u001b[32mPart \u001b[0m\u001b[1;32m2\u001b[0m: \u001b[1;3;33m2\u001b[0m - \u001b[1;34m0.\u001b[0m\u001b[1;34m0003s\u001b[0m\n"
      ]
     },
     "metadata": {},
     "output_type": "display_data"
    }
   ],
   "source": [
    "import sys\n",
    "sys.path.insert(0, \"../../\")\n",
    "from helpers import utils\n",
    "# --------------------------------------------------\n",
    "import csv\n",
    "# data = \">\"\n",
    "# data = \"^>v<\"\n",
    "# data = \"^v^v^v^v^v\"\n",
    "data = \"^v\"\n",
    "# data = None\n",
    "# with open('input.txt', 'r') as f:\n",
    "#     reader = csv.reader(f)\n",
    "#     for i, row in enumerate(reader):\n",
    "#         data = row[0]\n",
    "data = list(data)\n",
    "# part 1\n",
    "utils.start_timer()\n",
    "coords = {(0,0)}\n",
    "curr = (0,0)\n",
    "counter = 1\n",
    "for i in data:\n",
    "    curr = list(curr)\n",
    "    if i == '^':\n",
    "        curr[1] += 1\n",
    "    elif i == 'v':\n",
    "        curr[1] -= 1\n",
    "    elif i == '<':\n",
    "        curr[0] -= 1\n",
    "    elif i == '>':\n",
    "        curr[0] += 1\n",
    "    curr = tuple(curr)\n",
    "    coords.add(curr)\n",
    "utils.pprint(1,len(coords))\n",
    "# part 2\n",
    "utils.start_timer()\n",
    "coords = {(0,0)}\n",
    "curr_santa = (0,0)\n",
    "curr_robot = (0,0)\n",
    "curr = None\n",
    "counter = 1\n",
    "for i, _ in enumerate(data):\n",
    "    print(i, curr_santa, curr_robot)\n",
    "    if i % 2 == 0:\n",
    "        curr = list(curr_santa)\n",
    "    else:\n",
    "        curr = list(curr_robot)\n",
    "    print(i, curr)\n",
    "    if data[i] == '^':\n",
    "        curr[1] += 1\n",
    "    elif data[i] == 'v':\n",
    "        curr[1] -= 1\n",
    "    elif data[i] == '<':\n",
    "        curr[0] -= 1\n",
    "    elif data[i] == '>':\n",
    "        curr[0] += 1\n",
    "    print(i, curr)\n",
    "    curr = tuple(curr)\n",
    "    coords.add(curr)\n",
    "    if i % 2 == 0:\n",
    "        curr_santa = curr\n",
    "    else:\n",
    "        curr_robot = curr\n",
    "utils.pprint(2,len(coords))"
   ]
  },
  {
   "cell_type": "code",
   "execution_count": null,
   "metadata": {},
   "outputs": [],
   "source": []
  }
 ],
 "metadata": {
  "interpreter": {
   "hash": "d18c5aeff51af3a7d1488bd8f1edbee7fd3a2450676de85e4467d7b18d7bd2c4"
  },
  "kernelspec": {
   "display_name": "Python 3.9.6 64-bit ('kaggle': conda)",
   "language": "python",
   "name": "python3"
  },
  "language_info": {
   "codemirror_mode": {
    "name": "ipython",
    "version": 3
   },
   "file_extension": ".py",
   "mimetype": "text/x-python",
   "name": "python",
   "nbconvert_exporter": "python",
   "pygments_lexer": "ipython3",
   "version": "3.9.6"
  },
  "orig_nbformat": 4
 },
 "nbformat": 4,
 "nbformat_minor": 2
}
