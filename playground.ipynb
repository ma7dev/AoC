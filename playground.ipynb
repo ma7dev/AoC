{
 "cells": [
  {
   "cell_type": "code",
   "execution_count": 27,
   "metadata": {},
   "outputs": [
    {
     "data": {
      "text/html": [
       "<pre style=\"white-space:pre;overflow-x:auto;line-height:normal;font-family:Menlo,'DejaVu Sans Mono',consolas,'Courier New',monospace\"><span style=\"color: #008000; text-decoration-color: #008000\">Part </span><span style=\"color: #008000; text-decoration-color: #008000; font-weight: bold\">1</span>: <span style=\"color: #808000; text-decoration-color: #808000; font-weight: bold; font-style: italic\">92676646</span> - <span style=\"color: #000080; text-decoration-color: #000080; font-weight: bold\">17.</span><span style=\"color: #000080; text-decoration-color: #000080; font-weight: bold\">3472s</span>\n",
       "</pre>\n"
      ],
      "text/plain": [
       "\u001b[32mPart \u001b[0m\u001b[1;32m1\u001b[0m: \u001b[1;3;33m92676646\u001b[0m - \u001b[1;34m17.\u001b[0m\u001b[1;34m3472s\u001b[0m\n"
      ]
     },
     "metadata": {},
     "output_type": "display_data"
    }
   ],
   "source": [
    "import sys\n",
    "sys.path.insert(0, \"../../\")\n",
    "from helpers import utils\n",
    "# --------------------------------------------------\n",
    "import numpy as np\n",
    "from typing import List\n",
    "import pdb\n",
    "from rich import print\n",
    "import copy\n",
    "import math\n",
    "def read(filename: str) -> List[str]: \n",
    "    data = []\n",
    "    with open(filename, 'r') as f:\n",
    "        for _, row in enumerate(f):\n",
    "            data.extend([int(i) for i in row.split(',')])\n",
    "    return data\n",
    "\n",
    "def part_1(data,verbose=False):\n",
    "    utils.start_timer()\n",
    "    new_dict = {}\n",
    "    for i in data:\n",
    "        if i not in new_dict:\n",
    "            new_dict[i] = {\"sum\": 0, \"counter\": 0}\n",
    "        new_dict[i][\"counter\"] += 1\n",
    "    low_fuel = math.inf\n",
    "    for k, v in new_dict.items():\n",
    "        for i, j in new_dict.items():\n",
    "            if i != k:\n",
    "                new_dict[k][\"sum\"] += abs(i-k) * new_dict[i][\"counter\"]\n",
    "        low_fuel = min(low_fuel, new_dict[k][\"sum\"])\n",
    "    utils.pprint(1, low_fuel)\n",
    "        \n",
    "\n",
    "def part_2(data,verbose=False):\n",
    "    utils.start_timer()\n",
    "    new_dict = {}\n",
    "    for i in data:\n",
    "        if i not in new_dict:\n",
    "            new_dict[i] = {\"sum\": 0, \"counter\": 0}\n",
    "        new_dict[i][\"counter\"] += 1\n",
    "    low_fuel = math.inf\n",
    "    val_range = [min(new_dict.keys()), max(new_dict.keys())]\n",
    "    for k in range(val_range[0], val_range[1]+1):\n",
    "        if k not in new_dict:\n",
    "            new_dict[k] = {\"sum\": 0, \"counter\": 0}\n",
    "        for i, j in new_dict.items():\n",
    "            if i != k:\n",
    "                new_dict[k][\"sum\"] += sum(range(1,abs(i-k)+1)) * new_dict[i][\"counter\"]\n",
    "        low_fuel = min(low_fuel, new_dict[k][\"sum\"])\n",
    "    utils.pprint(1, low_fuel)\n",
    "\n",
    "data = read('ex.txt')\n",
    "part_1(copy.deepcopy(data))\n",
    "part_2(copy.deepcopy(data))\n",
    "data = read('input.txt')\n",
    "part_1(copy.deepcopy(data))\n",
    "part_2(copy.deepcopy(data))"
   ]
  },
  {
   "cell_type": "code",
   "execution_count": null,
   "metadata": {},
   "outputs": [],
   "source": []
  },
  {
   "cell_type": "code",
   "execution_count": null,
   "metadata": {},
   "outputs": [],
   "source": []
  }
 ],
 "metadata": {
  "interpreter": {
   "hash": "d18c5aeff51af3a7d1488bd8f1edbee7fd3a2450676de85e4467d7b18d7bd2c4"
  },
  "kernelspec": {
   "display_name": "Python 3.9.6 64-bit ('kaggle': conda)",
   "language": "python",
   "name": "python3"
  },
  "language_info": {
   "codemirror_mode": {
    "name": "ipython",
    "version": 3
   },
   "file_extension": ".py",
   "mimetype": "text/x-python",
   "name": "python",
   "nbconvert_exporter": "python",
   "pygments_lexer": "ipython3",
   "version": "3.9.6"
  },
  "orig_nbformat": 4
 },
 "nbformat": 4,
 "nbformat_minor": 2
}
