{
 "cells": [
  {
   "cell_type": "code",
   "execution_count": 60,
   "metadata": {},
   "outputs": [
    {
     "data": {
      "text/html": [
       "<pre style=\"white-space:pre;overflow-x:auto;line-height:normal;font-family:Menlo,'DejaVu Sans Mono',consolas,'Courier New',monospace\"><span style=\"color: #008000; text-decoration-color: #008000\">Part </span><span style=\"color: #008000; text-decoration-color: #008000; font-weight: bold\">1</span>: <span style=\"color: #808000; text-decoration-color: #808000; font-weight: bold; font-style: italic\">5306</span> - <span style=\"color: #000080; text-decoration-color: #000080; font-weight: bold\">0.</span><span style=\"color: #000080; text-decoration-color: #000080; font-weight: bold\">0069s</span>\n",
       "</pre>\n"
      ],
      "text/plain": [
       "\u001b[32mPart \u001b[0m\u001b[1;32m1\u001b[0m: \u001b[1;3;33m5306\u001b[0m - \u001b[1;34m0.\u001b[0m\u001b[1;34m0069s\u001b[0m\n"
      ]
     },
     "metadata": {},
     "output_type": "display_data"
    },
    {
     "data": {
      "text/html": [
       "<pre style=\"white-space:pre;overflow-x:auto;line-height:normal;font-family:Menlo,'DejaVu Sans Mono',consolas,'Courier New',monospace\"><span style=\"color: #008000; text-decoration-color: #008000\">Part </span><span style=\"color: #008000; text-decoration-color: #008000; font-weight: bold\">1</span>: <span style=\"color: #808000; text-decoration-color: #808000; font-weight: bold; font-style: italic\">17787</span> - <span style=\"color: #000080; text-decoration-color: #000080; font-weight: bold\">0.</span><span style=\"color: #000080; text-decoration-color: #000080; font-weight: bold\">0655s</span>\n",
       "</pre>\n"
      ],
      "text/plain": [
       "\u001b[32mPart \u001b[0m\u001b[1;32m1\u001b[0m: \u001b[1;3;33m17787\u001b[0m - \u001b[1;34m0.\u001b[0m\u001b[1;34m0655s\u001b[0m\n"
      ]
     },
     "metadata": {},
     "output_type": "display_data"
    }
   ],
   "source": [
    "# TODO:\n",
    "import sys\n",
    "sys.path.insert(0, \"../../\")\n",
    "from helpers import utils\n",
    "# --------------------------------------------------\n",
    "import numpy as np\n",
    "from typing import List\n",
    "def read(filename: str): \n",
    "    data = []\n",
    "    max_val = -1\n",
    "    max_val_y = -1\n",
    "    with open(filename, 'r') as f:\n",
    "        for _, row in enumerate(f):\n",
    "            r = [int(i) for e in row.split('->') for i in e.replace(' ','').replace('\\n','').split(',')]\n",
    "            if max_val == -1:\n",
    "                max_val = r[0]\n",
    "                max_val_y = r[0]\n",
    "            if r[0] > max_val:\n",
    "                max_val = r[0]\n",
    "            if r[2] > max_val:\n",
    "                max_val = r[2]\n",
    "            \n",
    "            if r[1] > max_val_y:\n",
    "                max_val_y = r[1]\n",
    "            if r[3] > max_val_y:\n",
    "                max_val_y = r[3]\n",
    "\n",
    "            data.append(r)\n",
    "    return data, max_val, max_val_y\n",
    "def part_1(data,max_val, max_val_y,verbose=False):\n",
    "    utils.start_timer()\n",
    "    arr = np.zeros((max_val+1, max_val_y+1))\n",
    "    for r in data:\n",
    "        # print(r)\n",
    "        if r[0] == r[2]:\n",
    "            # print(r)\n",
    "            if r[1] <= r[3]:\n",
    "                arr[r[0], r[1]:r[3]+1] += 1\n",
    "            else:\n",
    "                arr[r[0], r[3]:r[1]+1] += 1\n",
    "        elif r[1] == r[3]:\n",
    "            # print(r)\n",
    "            if r[0] <= r[2]:\n",
    "                arr[r[0]:r[2]+1, r[1]] += 1\n",
    "            else:\n",
    "                arr[r[2]:r[0]+1, r[1]] += 1\n",
    "    if verbose:\n",
    "        print(arr.T)\n",
    "    utils.pprint(1, len(arr[np.where(arr >= 2)]))\n",
    "        \n",
    "\n",
    "def part_2(data,max_val, max_val_y,verbose=False):\n",
    "    utils.start_timer()\n",
    "    arr = np.zeros((max_val+1, max_val_y+1))\n",
    "    for r in data:\n",
    "        # print(r)\n",
    "        if r[0] == r[2]:\n",
    "            # print(r)\n",
    "            if r[1] < r[3]:\n",
    "                arr[r[0], r[1]:r[3]+1] += 1\n",
    "            else:\n",
    "                arr[r[0], r[3]:r[1]+1] += 1\n",
    "        elif r[1] == r[3]:\n",
    "            # print(r)\n",
    "            if r[0] < r[2]:\n",
    "                arr[r[0]:r[2]+1, r[1]] += 1\n",
    "            else:\n",
    "                arr[r[2]:r[0]+1, r[1]] += 1\n",
    "        else:\n",
    "            if r[0] < r[2]:\n",
    "                if r[1] < r[3]:\n",
    "                    i = 0\n",
    "                    while r[0]+i < r[2]+1:\n",
    "                        arr[r[0]+i, r[1]+i] += 1\n",
    "                        i += 1\n",
    "                else:\n",
    "                    i = 0\n",
    "                    while r[0]+i < r[2]+1:\n",
    "                        arr[r[0]+i, r[1]-i] += 1\n",
    "                        i += 1\n",
    "            else:\n",
    "                if r[1] <= r[3]:\n",
    "                    i = 0\n",
    "                    while r[2]+i < r[0]+1:\n",
    "                        arr[r[0]-i, r[1]+i] += 1\n",
    "                        i += 1\n",
    "                else:\n",
    "                    i = 0\n",
    "                    while r[2]+i < r[0]+1:\n",
    "                        arr[r[0]-i, r[1]-i] += 1\n",
    "                        i += 1\n",
    "    if verbose:\n",
    "        print(arr.T)\n",
    "    utils.pprint(1, len(arr[np.where(arr >= 2)]))\n",
    "\n",
    "# data,max_val, max_val_y = read('ex.txt')\n",
    "data,max_val, max_val_y = read('input.txt')\n",
    "part_1(data,max_val, max_val_y)\n",
    "part_2(data,max_val, max_val_y)"
   ]
  },
  {
   "cell_type": "code",
   "execution_count": null,
   "metadata": {},
   "outputs": [],
   "source": []
  },
  {
   "cell_type": "code",
   "execution_count": null,
   "metadata": {},
   "outputs": [],
   "source": []
  }
 ],
 "metadata": {
  "interpreter": {
   "hash": "d18c5aeff51af3a7d1488bd8f1edbee7fd3a2450676de85e4467d7b18d7bd2c4"
  },
  "kernelspec": {
   "display_name": "Python 3.9.6 64-bit ('kaggle': conda)",
   "language": "python",
   "name": "python3"
  },
  "language_info": {
   "codemirror_mode": {
    "name": "ipython",
    "version": 3
   },
   "file_extension": ".py",
   "mimetype": "text/x-python",
   "name": "python",
   "nbconvert_exporter": "python",
   "pygments_lexer": "ipython3",
   "version": "3.9.6"
  },
  "orig_nbformat": 4
 },
 "nbformat": 4,
 "nbformat_minor": 2
}
