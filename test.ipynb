{
 "cells": [
  {
   "cell_type": "code",
   "execution_count": 19,
   "metadata": {},
   "outputs": [
    {
     "name": "stdout",
     "output_type": "stream",
     "text": [
      "['T', 'h', 'i', 'n', 'n', 'i', 'n', 'S', 'p', 'i', 'n']\n"
     ]
    }
   ],
   "source": [
    "import re\n",
    "txt = \"The rainn in Spain\"\n",
    "# x = re.findall(r\"[aeiou]\", txt)\n",
    "# x = re.findall(r\"(.)\\1\", txt)\n",
    "x = re.findall(r\"[Th,in,Sp]\", txt)\n",
    "print(x)"
   ]
  },
  {
   "cell_type": "code",
   "execution_count": null,
   "metadata": {},
   "outputs": [],
   "source": []
  }
 ],
 "metadata": {
  "interpreter": {
   "hash": "d18c5aeff51af3a7d1488bd8f1edbee7fd3a2450676de85e4467d7b18d7bd2c4"
  },
  "kernelspec": {
   "display_name": "Python 3.9.6 64-bit ('kaggle': conda)",
   "language": "python",
   "name": "python3"
  },
  "language_info": {
   "name": "python",
   "version": "3.9.6"
  },
  "orig_nbformat": 4
 },
 "nbformat": 4,
 "nbformat_minor": 2
}
